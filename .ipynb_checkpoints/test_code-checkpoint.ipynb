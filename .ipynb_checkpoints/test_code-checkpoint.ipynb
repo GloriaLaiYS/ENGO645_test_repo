{
 "cells": [
  {
   "cell_type": "code",
   "execution_count": null,
   "id": "31aab43d-a335-4cd5-8391-04c76e0dc57c",
   "metadata": {},
   "outputs": [],
   "source": [
    "print(\"Hello ENGO645!\")"
   ]
  }
 ],
 "metadata": {
  "kernelspec": {
   "display_name": "Python 3 (ipykernel)",
   "language": "python",
   "name": "python3"
  },
  "language_info": {
   "codemirror_mode": {
    "name": "ipython",
    "version": 3
   },
   "file_extension": ".py",
   "mimetype": "text/x-python",
   "name": "python",
   "nbconvert_exporter": "python",
   "pygments_lexer": "ipython3",
   "version": "3.9.12"
  }
 },
 "nbformat": 4,
 "nbformat_minor": 5
}
